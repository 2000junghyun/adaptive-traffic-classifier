{
 "cells": [
  {
   "cell_type": "markdown",
   "id": "5bb97389",
   "metadata": {},
   "source": [
    "# Adaptive (dynamic) binary classifier for network traffic"
   ]
  },
  {
   "cell_type": "markdown",
   "id": "4e6ad89c",
   "metadata": {},
   "source": [
    "## 학습 방법\n",
    "### Full retrain\n",
    "- 새로운 데이터가 들어오면, **기존 데이터 + 신규 데이터 전체를 이용**해서 모델을 처음부터 다시 학습하는 방식\n",
    "- 최신 데이터와 과거 데이터의 **전체 맥락**을 반영 가능 -> 안정적\n",
    "- 데이터가 많을수록 학습 시간, 자원 많이 필요\n",
    "\n",
    "### Incremental learning\n",
    "- 기존에 학습된 모델에 **새로운 데이터만 추가**로 학습시켜서 모델을 점진적으로 업데이트하는 방식\n",
    "- 메모리 효율적, 빠름 -> 온라인 러닝, 스트리밍 데이터 처리에 강점\n",
    "- 일부 모델에서만 지원\n",
    "- 잘못 업데이트하면 “과거 정보가 희석”될 수 있음(특히 concept drift 시 주의)"
   ]
  },
  {
   "cell_type": "markdown",
   "id": "2fa93675",
   "metadata": {},
   "source": [
    "## 데이터 분할 방법\n",
    "### Time-based split\n",
    "- 실제 서비스 환경과 유사 (ex. 과거 데이터로 학습, 미래에 들어오는 데이터 탐지)\n",
    "- 데이터 누수 최소화 (학습에 쓰인 데이터의 정보를 평가 데이터에 미리 포함하지 않음)\n",
    "- 실전과 유사한 실험을 하고싶을 때 사용\n",
    "\n",
    "### Random split\n",
    "- 각 데이터셋에 모든 유형의 트래픽이 포함될 확률이 높아짐\n",
    "- 모델이 각 유형에 대해 좀 더 균형 있게 학습/평가 가능\n",
    "- 공격/양성 데이터가 시간적으로 매우 불균형할 때 사용"
   ]
  }
 ],
 "metadata": {
  "language_info": {
   "name": "python"
  }
 },
 "nbformat": 4,
 "nbformat_minor": 5
}
